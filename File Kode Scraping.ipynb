{
 "cells": [
  {
   "cell_type": "markdown",
   "id": "fb298af3-0a9d-4f44-a4f8-2e9d3740f2d8",
   "metadata": {},
   "source": [
    "# **Scraping Dataset**"
   ]
  },
  {
   "cell_type": "code",
   "execution_count": null,
   "id": "8702b331-0654-49f5-a9f1-561dfe38d826",
   "metadata": {},
   "outputs": [],
   "source": [
    "# Install Google Play Scraper, Sastrawi, Wordcloud, dan Imblearn\r\n",
    "!pip install google-play-scraper sastrawi wordcloud imblearn\r\n",
    "\r\n",
    "# Review Aplsi ikaTradingVut)\r\n",
    "scrapreview = reviews_all(\r\n",
    "com.tradingview.tradingviewapp.uamo',\r\n",
    "    lang='id',\r\n",
    "    country='id',\r\n",
    "    sort=Sort.MOST_RELEVANT,\r\n",
    "    count=10000\r\n",
    ")\r\n",
    "\r\n",
    "# Buka file CSV\r\n",
    "with open('ulasan_aplikasi.csv', mode='w', newline='', encoding='utf-8') as file:\r\n",
    "    writer = csv.writer(file)\r\n",
    "    writer.writerow(['Review'])\r\n",
    "    for review in scrapreview:\r\n",
    "        writer.writerow([review['content']])"
   ]
  }
 ],
 "metadata": {
  "kernelspec": {
   "display_name": "Python 3 (ipykernel)",
   "language": "python",
   "name": "python3"
  },
  "language_info": {
   "codemirror_mode": {
    "name": "ipython",
    "version": 3
   },
   "file_extension": ".py",
   "mimetype": "text/x-python",
   "name": "python",
   "nbconvert_exporter": "python",
   "pygments_lexer": "ipython3",
   "version": "3.11.7"
  }
 },
 "nbformat": 4,
 "nbformat_minor": 5
}
